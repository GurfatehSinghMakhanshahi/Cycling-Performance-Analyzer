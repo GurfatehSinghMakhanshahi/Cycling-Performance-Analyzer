{
 "cells": [
  {
   "cell_type": "markdown",
   "id": "f8e3098b",
   "metadata": {},
   "source": [
    "Step One --- Inspecting the Data"
   ]
  },
  {
   "cell_type": "code",
   "execution_count": 1,
   "id": "02107aa8",
   "metadata": {},
   "outputs": [],
   "source": [
    "import pandas as pd"
   ]
  },
  {
   "cell_type": "code",
   "execution_count": 2,
   "id": "ce13450e",
   "metadata": {},
   "outputs": [
    {
     "name": "stderr",
     "output_type": "stream",
     "text": [
      "<>:1: SyntaxWarning: invalid escape sequence '\\C'\n",
      "<>:1: SyntaxWarning: invalid escape sequence '\\C'\n",
      "C:\\Users\\Gurfateh Singh\\AppData\\Local\\Temp\\ipykernel_25736\\2063432896.py:1: SyntaxWarning: invalid escape sequence '\\C'\n",
      "  data_f = pd.read_csv('D:\\Cycling Performance Analysis\\Cycling_Report\\Cycling_Report\\data\\cycling.txt',delim_whitespace=True)\n",
      "C:\\Users\\Gurfateh Singh\\AppData\\Local\\Temp\\ipykernel_25736\\2063432896.py:1: FutureWarning: The 'delim_whitespace' keyword in pd.read_csv is deprecated and will be removed in a future version. Use ``sep='\\s+'`` instead\n",
      "  data_f = pd.read_csv('D:\\Cycling Performance Analysis\\Cycling_Report\\Cycling_Report\\data\\cycling.txt',delim_whitespace=True)\n"
     ]
    },
    {
     "data": {
      "text/html": [
       "<div>\n",
       "<style scoped>\n",
       "    .dataframe tbody tr th:only-of-type {\n",
       "        vertical-align: middle;\n",
       "    }\n",
       "\n",
       "    .dataframe tbody tr th {\n",
       "        vertical-align: top;\n",
       "    }\n",
       "\n",
       "    .dataframe thead th {\n",
       "        text-align: right;\n",
       "    }\n",
       "</style>\n",
       "<table border=\"1\" class=\"dataframe\">\n",
       "  <thead>\n",
       "    <tr style=\"text-align: right;\">\n",
       "      <th></th>\n",
       "      <th>all_riders</th>\n",
       "      <th>rider_class</th>\n",
       "      <th>stage</th>\n",
       "      <th>points</th>\n",
       "      <th>stage_class</th>\n",
       "    </tr>\n",
       "  </thead>\n",
       "  <tbody>\n",
       "    <tr>\n",
       "      <th>0</th>\n",
       "      <td>Tadej Pogačar</td>\n",
       "      <td>All Rounder</td>\n",
       "      <td>X1</td>\n",
       "      <td>15</td>\n",
       "      <td>flat</td>\n",
       "    </tr>\n",
       "    <tr>\n",
       "      <th>1</th>\n",
       "      <td>Tadej Pogačar</td>\n",
       "      <td>All Rounder</td>\n",
       "      <td>X2</td>\n",
       "      <td>219</td>\n",
       "      <td>hills</td>\n",
       "    </tr>\n",
       "    <tr>\n",
       "      <th>2</th>\n",
       "      <td>Tadej Pogačar</td>\n",
       "      <td>All Rounder</td>\n",
       "      <td>X3</td>\n",
       "      <td>34</td>\n",
       "      <td>flat</td>\n",
       "    </tr>\n",
       "    <tr>\n",
       "      <th>3</th>\n",
       "      <td>Tadej Pogačar</td>\n",
       "      <td>All Rounder</td>\n",
       "      <td>X4</td>\n",
       "      <td>264</td>\n",
       "      <td>hills</td>\n",
       "    </tr>\n",
       "    <tr>\n",
       "      <th>4</th>\n",
       "      <td>Tadej Pogačar</td>\n",
       "      <td>All Rounder</td>\n",
       "      <td>X6</td>\n",
       "      <td>114</td>\n",
       "      <td>hills</td>\n",
       "    </tr>\n",
       "  </tbody>\n",
       "</table>\n",
       "</div>"
      ],
      "text/plain": [
       "      all_riders  rider_class stage  points stage_class\n",
       "0  Tadej Pogačar  All Rounder    X1      15        flat\n",
       "1  Tadej Pogačar  All Rounder    X2     219       hills\n",
       "2  Tadej Pogačar  All Rounder    X3      34        flat\n",
       "3  Tadej Pogačar  All Rounder    X4     264       hills\n",
       "4  Tadej Pogačar  All Rounder    X6     114       hills"
      ]
     },
     "execution_count": 2,
     "metadata": {},
     "output_type": "execute_result"
    }
   ],
   "source": [
    "data_f = pd.read_csv('D:\\Cycling Performance Analysis\\Cycling_Report\\Cycling_Report\\data\\cycling.txt',delim_whitespace=True)\n",
    "data_f.head()"
   ]
  },
  {
   "cell_type": "code",
   "execution_count": 3,
   "id": "67046df4",
   "metadata": {},
   "outputs": [],
   "source": [
    "data_f.to_csv('cycle.csv',index = False)"
   ]
  },
  {
   "cell_type": "code",
   "execution_count": 4,
   "id": "6003afa1",
   "metadata": {},
   "outputs": [],
   "source": [
    "data = pd.read_csv('D:\\\\Cycling Performance Analysis\\\\Cycling_Report\\\\Cycling_Report\\\\analysis\\\\cycle.csv')"
   ]
  },
  {
   "cell_type": "code",
   "execution_count": 5,
   "id": "06a39907",
   "metadata": {},
   "outputs": [
    {
     "data": {
      "text/html": [
       "<div>\n",
       "<style scoped>\n",
       "    .dataframe tbody tr th:only-of-type {\n",
       "        vertical-align: middle;\n",
       "    }\n",
       "\n",
       "    .dataframe tbody tr th {\n",
       "        vertical-align: top;\n",
       "    }\n",
       "\n",
       "    .dataframe thead th {\n",
       "        text-align: right;\n",
       "    }\n",
       "</style>\n",
       "<table border=\"1\" class=\"dataframe\">\n",
       "  <thead>\n",
       "    <tr style=\"text-align: right;\">\n",
       "      <th></th>\n",
       "      <th>all_riders</th>\n",
       "      <th>rider_class</th>\n",
       "      <th>stage</th>\n",
       "      <th>points</th>\n",
       "      <th>stage_class</th>\n",
       "    </tr>\n",
       "  </thead>\n",
       "  <tbody>\n",
       "    <tr>\n",
       "      <th>0</th>\n",
       "      <td>Tadej Pogačar</td>\n",
       "      <td>All Rounder</td>\n",
       "      <td>X1</td>\n",
       "      <td>15</td>\n",
       "      <td>flat</td>\n",
       "    </tr>\n",
       "    <tr>\n",
       "      <th>1</th>\n",
       "      <td>Tadej Pogačar</td>\n",
       "      <td>All Rounder</td>\n",
       "      <td>X2</td>\n",
       "      <td>219</td>\n",
       "      <td>hills</td>\n",
       "    </tr>\n",
       "    <tr>\n",
       "      <th>2</th>\n",
       "      <td>Tadej Pogačar</td>\n",
       "      <td>All Rounder</td>\n",
       "      <td>X3</td>\n",
       "      <td>34</td>\n",
       "      <td>flat</td>\n",
       "    </tr>\n",
       "    <tr>\n",
       "      <th>3</th>\n",
       "      <td>Tadej Pogačar</td>\n",
       "      <td>All Rounder</td>\n",
       "      <td>X4</td>\n",
       "      <td>264</td>\n",
       "      <td>hills</td>\n",
       "    </tr>\n",
       "    <tr>\n",
       "      <th>4</th>\n",
       "      <td>Tadej Pogačar</td>\n",
       "      <td>All Rounder</td>\n",
       "      <td>X6</td>\n",
       "      <td>114</td>\n",
       "      <td>hills</td>\n",
       "    </tr>\n",
       "  </tbody>\n",
       "</table>\n",
       "</div>"
      ],
      "text/plain": [
       "      all_riders  rider_class stage  points stage_class\n",
       "0  Tadej Pogačar  All Rounder    X1      15        flat\n",
       "1  Tadej Pogačar  All Rounder    X2     219       hills\n",
       "2  Tadej Pogačar  All Rounder    X3      34        flat\n",
       "3  Tadej Pogačar  All Rounder    X4     264       hills\n",
       "4  Tadej Pogačar  All Rounder    X6     114       hills"
      ]
     },
     "execution_count": 5,
     "metadata": {},
     "output_type": "execute_result"
    }
   ],
   "source": [
    "data.head()"
   ]
  },
  {
   "cell_type": "code",
   "execution_count": 6,
   "id": "746ac8a8",
   "metadata": {},
   "outputs": [
    {
     "data": {
      "text/plain": [
       "<bound method DataFrame.info of            all_riders  rider_class stage  points stage_class\n",
       "0       Tadej Pogačar  All Rounder    X1      15        flat\n",
       "1       Tadej Pogačar  All Rounder    X2     219       hills\n",
       "2       Tadej Pogačar  All Rounder    X3      34        flat\n",
       "3       Tadej Pogačar  All Rounder    X4     264       hills\n",
       "4       Tadej Pogačar  All Rounder    X6     114       hills\n",
       "...               ...          ...   ...     ...         ...\n",
       "3491  Fabian Lienhard    Unclassed   X17       0        flat\n",
       "3492  Fabian Lienhard    Unclassed   X18       0       mount\n",
       "3493  Fabian Lienhard    Unclassed   X19       0       mount\n",
       "3494  Fabian Lienhard    Unclassed   X20       0       hills\n",
       "3495  Fabian Lienhard    Unclassed   X21       0        flat\n",
       "\n",
       "[3496 rows x 5 columns]>"
      ]
     },
     "execution_count": 6,
     "metadata": {},
     "output_type": "execute_result"
    }
   ],
   "source": [
    "data.info"
   ]
  },
  {
   "cell_type": "code",
   "execution_count": 7,
   "id": "477089de",
   "metadata": {},
   "outputs": [
    {
     "data": {
      "text/plain": [
       "Index(['all_riders', 'rider_class', 'stage', 'points', 'stage_class'], dtype='object')"
      ]
     },
     "execution_count": 7,
     "metadata": {},
     "output_type": "execute_result"
    }
   ],
   "source": [
    "data.columns"
   ]
  },
  {
   "cell_type": "code",
   "execution_count": 8,
   "id": "ad399794",
   "metadata": {},
   "outputs": [
    {
     "data": {
      "text/plain": [
       "array(['All Rounder', 'Sprinter', 'Climber', 'Unclassed'], dtype=object)"
      ]
     },
     "execution_count": 8,
     "metadata": {},
     "output_type": "execute_result"
    }
   ],
   "source": [
    "data['rider_class'].unique()"
   ]
  },
  {
   "cell_type": "code",
   "execution_count": 9,
   "id": "29ab4d57",
   "metadata": {},
   "outputs": [
    {
     "data": {
      "text/plain": [
       "array(['X1', 'X2', 'X3', 'X4', 'X6', 'X7', 'X8', 'X9', 'X10', 'X11',\n",
       "       'X12', 'X14', 'X15', 'X16', 'X17', 'X18', 'X19', 'X20', 'X21'],\n",
       "      dtype=object)"
      ]
     },
     "execution_count": 9,
     "metadata": {},
     "output_type": "execute_result"
    }
   ],
   "source": [
    "data['stage'].unique()"
   ]
  },
  {
   "cell_type": "code",
   "execution_count": 10,
   "id": "00331c93",
   "metadata": {},
   "outputs": [
    {
     "data": {
      "text/plain": [
       "array(['Tadej Pogačar', 'Jonas Vingegaard', 'Remco Evenepoel',\n",
       "       'João Almeida', 'Primož Roglič', 'Jasper Philipsen',\n",
       "       'Jonathan Milan', 'Mattias Skjelmose', 'Florian Lipowitz',\n",
       "       'Matteo Jorgenson', 'Wout Van Aert', 'Simon Yates',\n",
       "       'Mathieu Van Der Poel', 'Lenny Martinez', 'Felix Gall',\n",
       "       'Carlos Rodríguez', 'Enric Mas', 'Tim Merlier', 'Adam Yates',\n",
       "       'Tobias Halland Johannessen', 'Kaden Groves', 'Santiago Buitrago',\n",
       "       'Romain Grégoire', 'Thymen Arensman', 'Filippo Ganna',\n",
       "       'Geraint Thomas', 'Biniam Girmay', 'Thibau Nys', 'Arnaud De Lie',\n",
       "       'Jordi Meeus', 'Aleksandr Vlasov', 'Dylan Groenewegen',\n",
       "       \"Ben O'Connor\", 'Oscar Onley', 'Sepp Kuss', 'Xandro Meurisse',\n",
       "       'Gianni Vermeersch', 'Emiel Verstrynge', 'Amaury Capiot',\n",
       "       'Ewen Costiou', 'Arnaud Démare', 'Raúl García Pierna',\n",
       "       'Cristián Rodríguez', 'Kévin Vauquelin', 'Clément Venturini',\n",
       "       'Phil Bauhaus', 'Jack Haig', 'Matej Mohorič', 'Fred Wright',\n",
       "       'Alex Aranburu', 'Emanuel Buchmann', 'Bryan Coquard',\n",
       "       'Ion Izagirre', 'Alexis Renard', 'Dylan Teuns', 'Benjamin Thomas',\n",
       "       'Bruno Armirail', 'Clément Berthet', 'Stefan Bissegger',\n",
       "       'Aurélien Paret-Peintre', 'Bastien Tronchon', 'Vincenzo Albanese',\n",
       "       'Kasper Asgreen', 'Alex Baudin', 'Ben Healy', 'Neilson Powless',\n",
       "       'Michael Valgren', 'Marijn Van Den Berg', 'Lewis Askey',\n",
       "       'Valentin Madouas', 'Guillaume Martin', 'Quentin Pacher',\n",
       "       'Paul Penhoët', 'Tobias Foss', 'Axel Laurance', 'Samuel Watson',\n",
       "       'Louis Barré', 'Vito Braet', 'Hugo Page', 'Laurenz Rex',\n",
       "       'Jonas Rutsch', 'Georg Zimmermann', 'Pascal Ackermann',\n",
       "       'Joseph Blackmore', 'Alexey Lutsenko', 'Krists Neilands',\n",
       "       'Jake Stewart', 'Michael Woods', 'Simone Consonni',\n",
       "       'Quinn Simmons', 'Toms Skujiņš', 'Jasper Stuyven',\n",
       "       'Jenno Berckmoes', 'Lennert Van Eetvelt', 'Brent Van Moer',\n",
       "       'Will Barta', 'Pablo Castrillo', 'Iván García Cortina',\n",
       "       'Gregor Mühlberger', 'Nelson Oliveira', 'Iván Romeo',\n",
       "       'Einer Rubio', 'Laurence Pithie', 'Danny Van Poppel',\n",
       "       'Mattia Cattaneo', 'Valentin Paret-Peintre',\n",
       "       'Maximilian Schachmann', 'Ilan Van Wilder', 'Eddie Dunbar',\n",
       "       'Luka Mezgec', 'Luke Plapp', 'Mauro Schmid',\n",
       "       'Tobias Lund Andresen', 'Warren Barguil', 'Pavel Bittner',\n",
       "       'Sean Flynn', 'Frank Van Den Broek', 'Mathieu Burgaudeau',\n",
       "       'Steff Cras', 'Alexandre Delettre', 'Emilien Jeannière',\n",
       "       'Jordan Jegat', 'Anthony Turgis', 'Mattéo Vercher',\n",
       "       'Edoardo Affini', 'Tiesj Benoot', 'Victor Campenaerts',\n",
       "       'Julian Alaphilippe', 'Alberto Dainese', 'Marc Hirschi',\n",
       "       'Marius Mayrhofer', 'Michael Storer', 'Matteo Trentin',\n",
       "       'Jhonatan Narváez', 'Nils Politt', 'Pavel Sivakov', 'Marc Soler',\n",
       "       'Tim Wellens', 'Jonas Abrahamsen', 'Magnus Cort', 'Stian Fredheim',\n",
       "       'Markus Hoelgaard', 'Anders Halland Johannessen',\n",
       "       'Andreas Leknessund', 'Søren Wærenskjold', 'Davide Ballerini',\n",
       "       'Cees Bol', 'Clément Champoussin', 'Yevgeniy Fedorov',\n",
       "       'Sergio Higuita', 'Harold Tejada', 'Mike Teunissen',\n",
       "       'Simone Velasco', 'Silvan Dillier', 'Jonas Rickaert',\n",
       "       'Mathis Le Berre', 'Kamil Gradek', 'Robert Stannard',\n",
       "       'Damien Touzé', 'Oliver Naesen', 'Callum Scotson', 'Harry Sweeny',\n",
       "       'Cyril Barthe', 'Clément Russo', 'Connor Swift',\n",
       "       'Roel Van Sintmaartensdijk', 'Guillaume Boivin', 'Matis Louvel',\n",
       "       'Edward Theuns', 'Jasper De Buyst', 'Jarrad Drizners',\n",
       "       'Sébastien Grignard', 'Eduardo Sepúlveda', 'Gianni Moscon',\n",
       "       'Mick Van Dijke', 'Pascal Eenkhoorn', 'Bert Van Lerberghe',\n",
       "       'Luke Durbridge', 'Elmar Reinders', 'Niklas Märkl', 'Tim Naberman',\n",
       "       'Thomas Gachignard', 'Marco Haller', 'Fabian Lienhard'],\n",
       "      dtype=object)"
      ]
     },
     "execution_count": 10,
     "metadata": {},
     "output_type": "execute_result"
    }
   ],
   "source": [
    "data['all_riders'].unique()"
   ]
  },
  {
   "cell_type": "code",
   "execution_count": 11,
   "id": "66c92997",
   "metadata": {},
   "outputs": [
    {
     "data": {
      "text/plain": [
       "all_riders     0\n",
       "rider_class    0\n",
       "stage          0\n",
       "points         0\n",
       "stage_class    0\n",
       "dtype: int64"
      ]
     },
     "execution_count": 11,
     "metadata": {},
     "output_type": "execute_result"
    }
   ],
   "source": [
    "data.isnull().sum()"
   ]
  },
  {
   "cell_type": "code",
   "execution_count": 12,
   "id": "d80f79bf",
   "metadata": {},
   "outputs": [
    {
     "name": "stdout",
     "output_type": "stream",
     "text": [
      "all_riders     object\n",
      "rider_class    object\n",
      "stage          object\n",
      "points          int64\n",
      "stage_class    object\n",
      "dtype: object\n"
     ]
    }
   ],
   "source": [
    "print(data.dtypes)"
   ]
  }
 ],
 "metadata": {
  "kernelspec": {
   "display_name": "Python 3",
   "language": "python",
   "name": "python3"
  },
  "language_info": {
   "codemirror_mode": {
    "name": "ipython",
    "version": 3
   },
   "file_extension": ".py",
   "mimetype": "text/x-python",
   "name": "python",
   "nbconvert_exporter": "python",
   "pygments_lexer": "ipython3",
   "version": "3.12.0"
  }
 },
 "nbformat": 4,
 "nbformat_minor": 5
}
