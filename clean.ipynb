{
 "cells": [
  {
   "cell_type": "markdown",
   "id": "f0822236",
   "metadata": {},
   "source": [
    "Step Two --- Cleaning the data"
   ]
  },
  {
   "cell_type": "code",
   "execution_count": 1,
   "id": "5159a5d4",
   "metadata": {},
   "outputs": [],
   "source": [
    "import pandas as pd\n",
    "import numpy as np\n",
    "import os"
   ]
  },
  {
   "cell_type": "code",
   "execution_count": 3,
   "id": "748ab2c4",
   "metadata": {},
   "outputs": [],
   "source": [
    "raw_data = 'E:\\\\Cycling_Report\\\\data\\\\cycling.txt'\n",
    "clean_data = 'E:\\\\Cycling_Report\\\\data\\\\cycling_clean.csv'\n",
    "diagnostics = 'E:\\\\Cycling_Report\\\\analysis\\\\diagnostics.txt'"
   ]
  },
  {
   "cell_type": "code",
   "execution_count": 11,
   "id": "52a641c2",
   "metadata": {},
   "outputs": [
    {
     "data": {
      "text/plain": [
       "(3496, 5)"
      ]
     },
     "execution_count": 11,
     "metadata": {},
     "output_type": "execute_result"
    }
   ],
   "source": [
    "data = pd.read_csv(raw_data,sep = None,engine='python')\n",
    "# data.head()\n",
    "data.shape"
   ]
  },
  {
   "cell_type": "code",
   "execution_count": 12,
   "id": "5ffe2273",
   "metadata": {},
   "outputs": [
    {
     "data": {
      "text/plain": [
       "<bound method DataFrame.info of            all_riders  rider_class stage  points stage_class\n",
       "0       Tadej Pogačar  All Rounder    X1      15        flat\n",
       "1       Tadej Pogačar  All Rounder    X2     219       hills\n",
       "2       Tadej Pogačar  All Rounder    X3      34        flat\n",
       "3       Tadej Pogačar  All Rounder    X4     264       hills\n",
       "4       Tadej Pogačar  All Rounder    X6     114       hills\n",
       "...               ...          ...   ...     ...         ...\n",
       "3491  Fabian Lienhard    Unclassed   X17       0        flat\n",
       "3492  Fabian Lienhard    Unclassed   X18       0       mount\n",
       "3493  Fabian Lienhard    Unclassed   X19       0       mount\n",
       "3494  Fabian Lienhard    Unclassed   X20       0       hills\n",
       "3495  Fabian Lienhard    Unclassed   X21       0        flat\n",
       "\n",
       "[3496 rows x 5 columns]>"
      ]
     },
     "execution_count": 12,
     "metadata": {},
     "output_type": "execute_result"
    }
   ],
   "source": [
    "data.info"
   ]
  },
  {
   "cell_type": "code",
   "execution_count": 13,
   "id": "e95a0bca",
   "metadata": {},
   "outputs": [
    {
     "data": {
      "text/plain": [
       "['all_riders', 'rider_class', 'stage', 'points', 'stage_class']"
      ]
     },
     "execution_count": 13,
     "metadata": {},
     "output_type": "execute_result"
    }
   ],
   "source": [
    "data.columns.tolist()"
   ]
  },
  {
   "cell_type": "code",
   "execution_count": 15,
   "id": "8eb5dd6f",
   "metadata": {},
   "outputs": [
    {
     "name": "stdout",
     "output_type": "stream",
     "text": [
      "Missing Values per column : all_riders     0\n",
      "rider_class    0\n",
      "stage          0\n",
      "points         0\n",
      "stage_class    0\n",
      "dtype: int64\n"
     ]
    }
   ],
   "source": [
    "missing_values = data.isna().sum().sort_values(ascending = False)\n",
    "print(\"Missing Values per column :\", missing_values)"
   ]
  },
  {
   "cell_type": "code",
   "execution_count": 16,
   "id": "189b469c",
   "metadata": {},
   "outputs": [
    {
     "name": "stdout",
     "output_type": "stream",
     "text": [
      "Unique values in all_riders :\n",
      "['Tadej Pogačar' 'Jonas Vingegaard' 'Remco Evenepoel' 'João Almeida'\n",
      " 'Primož Roglič' 'Jasper Philipsen' 'Jonathan Milan' 'Mattias Skjelmose'\n",
      " 'Florian Lipowitz' 'Matteo Jorgenson' 'Wout Van Aert' 'Simon Yates'\n",
      " 'Mathieu Van Der Poel' 'Lenny Martinez' 'Felix Gall' 'Carlos Rodríguez'\n",
      " 'Enric Mas' 'Tim Merlier' 'Adam Yates' 'Tobias Halland Johannessen'\n",
      " 'Kaden Groves' 'Santiago Buitrago' 'Romain Grégoire' 'Thymen Arensman'\n",
      " 'Filippo Ganna' 'Geraint Thomas' 'Biniam Girmay' 'Thibau Nys'\n",
      " 'Arnaud De Lie' 'Jordi Meeus' 'Aleksandr Vlasov' 'Dylan Groenewegen'\n",
      " \"Ben O'Connor\" 'Oscar Onley' 'Sepp Kuss' 'Xandro Meurisse'\n",
      " 'Gianni Vermeersch' 'Emiel Verstrynge' 'Amaury Capiot' 'Ewen Costiou'\n",
      " 'Arnaud Démare' 'Raúl García Pierna' 'Cristián Rodríguez'\n",
      " 'Kévin Vauquelin' 'Clément Venturini' 'Phil Bauhaus' 'Jack Haig'\n",
      " 'Matej Mohorič' 'Fred Wright' 'Alex Aranburu']\n",
      "Unique values in rider_class :\n",
      "['All Rounder' 'Sprinter' 'Climber' 'Unclassed']\n",
      "Unique values in stage :\n",
      "['X1' 'X2' 'X3' 'X4' 'X6' 'X7' 'X8' 'X9' 'X10' 'X11' 'X12' 'X14' 'X15'\n",
      " 'X16' 'X17' 'X18' 'X19' 'X20' 'X21']\n",
      "Unique values in points :\n",
      "[ 15 219  34 264 114 274  50 109  39 304 255  58 184  54 284 234 194  13\n",
      " 190  30 196  85 212  94  26 243  43 156  40 256 251  46   0  19   8 107\n",
      "  62 136  57  22 121  41  10 137  20  12  32  86  99  90]\n",
      "Unique values in stage_class :\n",
      "['flat' 'hills' 'mount']\n"
     ]
    }
   ],
   "source": [
    "# Unique values\n",
    "col = 'all_riders', 'rider_class', 'stage', 'points', 'stage_class'\n",
    "\n",
    "for i in col:\n",
    "    if i in data.columns:\n",
    "        print(f\"Unique values in {i} :\")\n",
    "        print(data[i].dropna().unique()[:50])"
   ]
  },
  {
   "cell_type": "markdown",
   "id": "64767e2b",
   "metadata": {},
   "source": [
    "Clean 'point' column"
   ]
  },
  {
   "cell_type": "code",
   "execution_count": 17,
   "id": "674c8207",
   "metadata": {},
   "outputs": [
    {
     "name": "stdout",
     "output_type": "stream",
     "text": [
      "Example non-numeric 'points' entries:\n",
      " []\n",
      "After coerce, missing values in points : 0\n"
     ]
    }
   ],
   "source": [
    "if 'points' in data.columns:\n",
    "    not_numeric = ~data['points'].apply(lambda a: pd.to_numeric(a, errors = 'coerce')).notna()\n",
    "    print(\"Example non-numeric 'points' entries:\\n\", data.loc[not_numeric,'points'].unique()[:20])\n",
    "\n",
    "    data['points'] = pd.to_numeric(data['points'].astype(str).str.replace(',',''),errors = 'coerce')\n",
    "    print(\"After coerce, missing values in points :\", data['points'].isna().sum())\n",
    "\n",
    "else:\n",
    "    raise KeyError(\"No 'points' column found.\")"
   ]
  },
  {
   "cell_type": "markdown",
   "id": "63ff7d69",
   "metadata": {},
   "source": [
    "Normalizing catagorical columns"
   ]
  },
  {
   "cell_type": "code",
   "execution_count": 19,
   "id": "c6ed53e9",
   "metadata": {},
   "outputs": [
    {
     "name": "stdout",
     "output_type": "stream",
     "text": [
      "rider_class levels : ['All Rounder', 'Climber', 'Sprinter', 'Unclassed']\n",
      "stage_class levels : ['Flat', 'Hills', 'Mount']\n"
     ]
    }
   ],
   "source": [
    "def clean_s(s):\n",
    "    if pd.isna(s):\n",
    "        return s\n",
    "\n",
    "    s = str(s).strip()\n",
    "    s = s.replace('-', ' ').replace('_', ' ')\n",
    "    s = \" \".join(s.split())\n",
    "    s = s.title()\n",
    "\n",
    "    return s\n",
    "\n",
    "catego = ['rider_class','stage_class']\n",
    "for cate in catego:\n",
    "    if cate in data.columns:\n",
    "        data[cate] = data[cate].apply(clean_s)\n",
    "        data[cate] = data[cate].astype('category')\n",
    "\n",
    "        print(cate, \"levels :\", data[cate].cat.categories.tolist())\n",
    "\n",
    "    else:\n",
    "        print(f'Alert : {cate} not found in dataset.')"
   ]
  },
  {
   "cell_type": "code",
   "execution_count": 20,
   "id": "7c570333",
   "metadata": {},
   "outputs": [],
   "source": [
    "mapp = {'Allrounder':'All Rounder', 'All-Rounder':'All Rounder', 'Allround': 'All Rounder'}\n",
    "data['rider_class'] = data['rider_class'].replace(mapp)\n",
    "data['rider_class'] = data['rider_class'].astype('category')"
   ]
  },
  {
   "cell_type": "markdown",
   "id": "cebb5101",
   "metadata": {},
   "source": [
    "Summary Variables"
   ]
  },
  {
   "cell_type": "code",
   "execution_count": 21,
   "id": "40aeee03",
   "metadata": {},
   "outputs": [
    {
     "name": "stdout",
     "output_type": "stream",
     "text": [
      "No rider_id : calculate total by rider_name or skip totals per rider.\n"
     ]
    }
   ],
   "source": [
    "# Total points per rider assuming rider id exists\n",
    "\n",
    "if 'rider_id' in data.columns:\n",
    "    T_Points = data.groupby('rider_id', dropna = False)['points'].sum().reset_index().rename(columns = {'points' : 'T_points'})\n",
    "    data = data.merge(T_Points, on = 'rider_id', how = 'left')\n",
    "\n",
    "    avg_stage = data.groupby(['rider_id','stage_class'],dropna = False)['points'].mean().unstack(fill_value= np.nan)\n",
    "    avg_stage.columns = [f'avg_stage_points_{str(c)}' for c in avg_stage.columns]\n",
    "    data = data.merge(avg_stage.reset_index(), on = 'rider_id', how = 'left')\n",
    "\n",
    "else:\n",
    "    print(\"No rider_id : calculate total by rider_name or skip totals per rider.\")"
   ]
  },
  {
   "cell_type": "markdown",
   "id": "7d7e634e",
   "metadata": {},
   "source": [
    "calculate average points per stage_class"
   ]
  },
  {
   "cell_type": "code",
   "execution_count": 22,
   "id": "b83449dc",
   "metadata": {},
   "outputs": [
    {
     "name": "stdout",
     "output_type": "stream",
     "text": [
      "  stage_class  count       mean  median        std\n",
      "0        Flat   1104  11.794384     0.0  33.219268\n",
      "1       Hills   1472  12.520380     0.0  36.130357\n",
      "2       Mount    920  12.878261     0.0  39.906588\n"
     ]
    },
    {
     "name": "stderr",
     "output_type": "stream",
     "text": [
      "C:\\Users\\luxma\\AppData\\Local\\Temp\\ipykernel_8508\\3161914952.py:1: FutureWarning: The default of observed=False is deprecated and will be changed to True in a future version of pandas. Pass observed=False to retain current behavior or observed=True to adopt the future default and silence this warning.\n",
      "  avg_stage_class = data.groupby('stage_class')['points'].agg(['count', 'mean', 'median', 'std']).reset_index()\n"
     ]
    }
   ],
   "source": [
    "avg_stage_class = data.groupby('stage_class')['points'].agg(['count', 'mean', 'median', 'std']).reset_index()\n",
    "print(avg_stage_class)\n",
    "\n",
    "# saving the summary\n",
    "\n",
    "avg_stage_class.to_csv('E:\\\\Cycling_Report\\\\analysis\\\\avg_points_stage_class.csv', index = False)"
   ]
  },
  {
   "cell_type": "markdown",
   "id": "cb5dd4d0",
   "metadata": {},
   "source": [
    "Handling Missing Values"
   ]
  },
  {
   "cell_type": "code",
   "execution_count": 23,
   "id": "53556190",
   "metadata": {},
   "outputs": [
    {
     "name": "stdout",
     "output_type": "stream",
     "text": [
      "Missing fraction in points : 0.0\n",
      "Now Missing Points : 0 , action : rows with missing points (<5%) are dropped.\n"
     ]
    }
   ],
   "source": [
    "# missing fraction\n",
    "\n",
    "missing_fraction_points = data['points'].isna().mean()\n",
    "print(\"Missing fraction in points :\", missing_fraction_points)\n",
    "\n",
    "if missing_fraction_points < 0.05:\n",
    "    # drop rows with missing points\n",
    "\n",
    "    data = data.dropna(subset = ['points']).reset_index(drop = True)\n",
    "    act = \"rows with missing points (<5%) are dropped.\"\n",
    "\n",
    "else:\n",
    "    # median imputation by rider_class\n",
    "    data['points'] = data.groupby('rider_class')['points'].apply(lambda e: e.fillna(e.median()))\n",
    "    # remaining Nans ( filling with overall median if rider_class missing)\n",
    "    data['points'] = data['points'].fillna(data['points'].median())\n",
    "    act = \"missing points using rider_class median are imputed, then overall median\"\n",
    "\n",
    "print(\"Now Missing Points :\", data['points'].isna().sum(),\", action :\", act)"
   ]
  },
  {
   "cell_type": "markdown",
   "id": "51be1b23",
   "metadata": {},
   "source": [
    "Catagorical Missing Values"
   ]
  },
  {
   "cell_type": "code",
   "execution_count": 24,
   "id": "e5cb5021",
   "metadata": {},
   "outputs": [],
   "source": [
    "for c in ['rider_class','stage_class']:\n",
    "    if c in data.columns:\n",
    "        data[c] = data[c].cat.add_categories(['Unknown']).fillna('Unknown')"
   ]
  },
  {
   "cell_type": "markdown",
   "id": "cf634e26",
   "metadata": {},
   "source": [
    "Categorical lavel consistency"
   ]
  },
  {
   "cell_type": "code",
   "execution_count": 25,
   "id": "e73ef537",
   "metadata": {},
   "outputs": [
    {
     "name": "stdout",
     "output_type": "stream",
     "text": [
      "rider_class levels now : ['All Rounder' 'Sprinter' 'Climber' 'Unclassed']\n",
      "stage_class levels now : ['Flat' 'Hills' 'Mount']\n"
     ]
    }
   ],
   "source": [
    "for c in ['rider_class','stage_class']:\n",
    "    if c in data.columns:\n",
    "        print(c, \"levels now :\", data[c].astype(str).unique())"
   ]
  },
  {
   "cell_type": "markdown",
   "id": "b3c2d77f",
   "metadata": {},
   "source": [
    "Saving cleaned CSV and Diagnostics"
   ]
  },
  {
   "cell_type": "code",
   "execution_count": 27,
   "id": "eab4e418",
   "metadata": {},
   "outputs": [
    {
     "name": "stdout",
     "output_type": "stream",
     "text": [
      "Cleaned CSV and diagnostics are saved.\n"
     ]
    },
    {
     "name": "stderr",
     "output_type": "stream",
     "text": [
      "<>:2: SyntaxWarning: invalid escape sequence '\\C'\n",
      "<>:2: SyntaxWarning: invalid escape sequence '\\C'\n",
      "C:\\Users\\luxma\\AppData\\Local\\Temp\\ipykernel_8508\\3264738547.py:2: SyntaxWarning: invalid escape sequence '\\C'\n",
      "  os.makedirs('E:\\Cycling_Report\\data',exist_ok = True)\n"
     ]
    }
   ],
   "source": [
    "# Cleaned file\n",
    "os.makedirs('E:\\Cycling_Report\\data',exist_ok = True)\n",
    "data.to_csv(clean_data, index = False)\n",
    "\n",
    "# Diagnostics\n",
    "\n",
    "with open(diagnostics, 'w') as f:\n",
    "    f.write(\"Cleaning diagnostics\\n\")\n",
    "    f.write(f\"Original file : {raw_data}\\n\")\n",
    "    f.write(f\"Cleaned file : {clean_data}\\n\")\n",
    "    f.write(f\"Action on points : {act}\\n\\n\")\n",
    "    f.write(\"Missing values after cleaning:\\n\")\n",
    "    f.write(str(data.isna().sum()))\n",
    "\n",
    "print(\"Cleaned CSV and diagnostics are saved.\")"
   ]
  },
  {
   "cell_type": "markdown",
   "id": "3fde5ee4",
   "metadata": {},
   "source": [
    "Verification"
   ]
  },
  {
   "cell_type": "code",
   "execution_count": 28,
   "id": "52a736c6",
   "metadata": {},
   "outputs": [
    {
     "name": "stdout",
     "output_type": "stream",
     "text": [
      "<class 'pandas.core.frame.DataFrame'>\n",
      "RangeIndex: 3496 entries, 0 to 3495\n",
      "Data columns (total 5 columns):\n",
      " #   Column       Non-Null Count  Dtype \n",
      "---  ------       --------------  ----- \n",
      " 0   all_riders   3496 non-null   object\n",
      " 1   rider_class  3496 non-null   object\n",
      " 2   stage        3496 non-null   object\n",
      " 3   points       3496 non-null   int64 \n",
      " 4   stage_class  3496 non-null   object\n",
      "dtypes: int64(1), object(4)\n",
      "memory usage: 136.7+ KB\n",
      "None\n",
      "      all_riders  rider_class stage  points stage_class\n",
      "0  Tadej Pogačar  All Rounder    X1      15        Flat\n",
      "1  Tadej Pogačar  All Rounder    X2     219       Hills\n",
      "2  Tadej Pogačar  All Rounder    X3      34        Flat\n",
      "3  Tadej Pogačar  All Rounder    X4     264       Hills\n",
      "4  Tadej Pogačar  All Rounder    X6     114       Hills\n"
     ]
    }
   ],
   "source": [
    "data2 = pd.read_csv(clean_data)\n",
    "print(data2.info())\n",
    "print(data2.head())"
   ]
  },
  {
   "cell_type": "code",
   "execution_count": null,
   "id": "db17bb63",
   "metadata": {},
   "outputs": [],
   "source": []
  }
 ],
 "metadata": {
  "kernelspec": {
   "display_name": "base",
   "language": "python",
   "name": "python3"
  },
  "language_info": {
   "codemirror_mode": {
    "name": "ipython",
    "version": 3
   },
   "file_extension": ".py",
   "mimetype": "text/x-python",
   "name": "python",
   "nbconvert_exporter": "python",
   "pygments_lexer": "ipython3",
   "version": "3.12.7"
  }
 },
 "nbformat": 4,
 "nbformat_minor": 5
}
